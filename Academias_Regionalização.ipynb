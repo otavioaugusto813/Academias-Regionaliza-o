{
  "nbformat": 4,
  "nbformat_minor": 0,
  "metadata": {
    "colab": {
      "name": "Academias Regionalização.ipynb",
      "provenance": []
    },
    "kernelspec": {
      "name": "python3",
      "display_name": "Python 3"
    }
  },
  "cells": [
    {
      "cell_type": "markdown",
      "metadata": {
        "id": "SNR-YUYODdPY",
        "colab_type": "text"
      },
      "source": [
        "\n",
        "Na lista constam apenas os municípios que receberão alguma academia conforme indicações dos Deputados, mas os lotes deverão considerar os demais municípios, considerando que pode haver alteração de indicações e que a proposta é utilizar o processo licitatório para indicações de anos seguintes.\n",
        "\n",
        "Como o Antônio colocou no e-mail anterior, os 5 lotes deverão ser distribuídos com quantidades similares de academias (informação que a Luana irá nos enviar) e agrupando os municípios próximos (incluindo aqueles não indicados na lista).\n",
        "\n"
      ]
    },
    {
      "cell_type": "code",
      "metadata": {
        "id": "bbwrTWb7DZ6k",
        "colab_type": "code",
        "colab": {
          "base_uri": "https://localhost:8080/",
          "height": 457
        },
        "outputId": "285c181d-71fc-4dc6-9340-623af1fbe7d7"
      },
      "source": [
        "!pip install geopandas\n"
      ],
      "execution_count": 1,
      "outputs": [
        {
          "output_type": "stream",
          "text": [
            "Collecting geopandas\n",
            "\u001b[?25l  Downloading https://files.pythonhosted.org/packages/f8/dd/c0a6429cc7692efd5c99420c9df525c40f472b50705871a770449027e244/geopandas-0.8.0-py2.py3-none-any.whl (962kB)\n",
            "\u001b[K     |████████████████████████████████| 962kB 2.9MB/s \n",
            "\u001b[?25hCollecting pyproj>=2.2.0\n",
            "\u001b[?25l  Downloading https://files.pythonhosted.org/packages/e5/c3/071e080230ac4b6c64f1a2e2f9161c9737a2bc7b683d2c90b024825000c0/pyproj-2.6.1.post1-cp36-cp36m-manylinux2010_x86_64.whl (10.9MB)\n",
            "\u001b[K     |████████████████████████████████| 10.9MB 9.9MB/s \n",
            "\u001b[?25hCollecting fiona\n",
            "\u001b[?25l  Downloading https://files.pythonhosted.org/packages/ec/20/4e63bc5c6e62df889297b382c3ccd4a7a488b00946aaaf81a118158c6f09/Fiona-1.8.13.post1-cp36-cp36m-manylinux1_x86_64.whl (14.7MB)\n",
            "\u001b[K     |████████████████████████████████| 14.7MB 309kB/s \n",
            "\u001b[?25hRequirement already satisfied: pandas>=0.23.0 in /usr/local/lib/python3.6/dist-packages (from geopandas) (1.0.5)\n",
            "Requirement already satisfied: shapely in /usr/local/lib/python3.6/dist-packages (from geopandas) (1.7.0)\n",
            "Collecting cligj>=0.5\n",
            "  Downloading https://files.pythonhosted.org/packages/e4/be/30a58b4b0733850280d01f8bd132591b4668ed5c7046761098d665ac2174/cligj-0.5.0-py3-none-any.whl\n",
            "Collecting munch\n",
            "  Downloading https://files.pythonhosted.org/packages/cc/ab/85d8da5c9a45e072301beb37ad7f833cd344e04c817d97e0cc75681d248f/munch-2.5.0-py2.py3-none-any.whl\n",
            "Collecting click-plugins>=1.0\n",
            "  Downloading https://files.pythonhosted.org/packages/e9/da/824b92d9942f4e472702488857914bdd50f73021efea15b4cad9aca8ecef/click_plugins-1.1.1-py2.py3-none-any.whl\n",
            "Requirement already satisfied: click<8,>=4.0 in /usr/local/lib/python3.6/dist-packages (from fiona->geopandas) (7.1.2)\n",
            "Requirement already satisfied: six>=1.7 in /usr/local/lib/python3.6/dist-packages (from fiona->geopandas) (1.12.0)\n",
            "Requirement already satisfied: attrs>=17 in /usr/local/lib/python3.6/dist-packages (from fiona->geopandas) (19.3.0)\n",
            "Requirement already satisfied: pytz>=2017.2 in /usr/local/lib/python3.6/dist-packages (from pandas>=0.23.0->geopandas) (2018.9)\n",
            "Requirement already satisfied: numpy>=1.13.3 in /usr/local/lib/python3.6/dist-packages (from pandas>=0.23.0->geopandas) (1.18.5)\n",
            "Requirement already satisfied: python-dateutil>=2.6.1 in /usr/local/lib/python3.6/dist-packages (from pandas>=0.23.0->geopandas) (2.8.1)\n",
            "Installing collected packages: pyproj, cligj, munch, click-plugins, fiona, geopandas\n",
            "Successfully installed click-plugins-1.1.1 cligj-0.5.0 fiona-1.8.13.post1 geopandas-0.8.0 munch-2.5.0 pyproj-2.6.1.post1\n"
          ],
          "name": "stdout"
        }
      ]
    },
    {
      "cell_type": "code",
      "metadata": {
        "id": "S_J2YuimESMp",
        "colab_type": "code",
        "colab": {
          "base_uri": "https://localhost:8080/",
          "height": 185
        },
        "outputId": "5549a89e-8d1e-47ad-828c-7e859ef4bf58"
      },
      "source": [
        "!pip install pyshp"
      ],
      "execution_count": 2,
      "outputs": [
        {
          "output_type": "stream",
          "text": [
            "Collecting pyshp\n",
            "\u001b[?25l  Downloading https://files.pythonhosted.org/packages/27/16/3bf15aa864fb77845fab8007eda22c2bd67bd6c1fd13496df452c8c43621/pyshp-2.1.0.tar.gz (215kB)\n",
            "\r\u001b[K     |█▌                              | 10kB 16.9MB/s eta 0:00:01\r\u001b[K     |███                             | 20kB 1.8MB/s eta 0:00:01\r\u001b[K     |████▋                           | 30kB 2.3MB/s eta 0:00:01\r\u001b[K     |██████                          | 40kB 2.5MB/s eta 0:00:01\r\u001b[K     |███████▋                        | 51kB 2.0MB/s eta 0:00:01\r\u001b[K     |█████████▏                      | 61kB 2.2MB/s eta 0:00:01\r\u001b[K     |██████████▋                     | 71kB 2.5MB/s eta 0:00:01\r\u001b[K     |████████████▏                   | 81kB 2.7MB/s eta 0:00:01\r\u001b[K     |█████████████▊                  | 92kB 2.9MB/s eta 0:00:01\r\u001b[K     |███████████████▏                | 102kB 2.8MB/s eta 0:00:01\r\u001b[K     |████████████████▊               | 112kB 2.8MB/s eta 0:00:01\r\u001b[K     |██████████████████▎             | 122kB 2.8MB/s eta 0:00:01\r\u001b[K     |███████████████████▉            | 133kB 2.8MB/s eta 0:00:01\r\u001b[K     |█████████████████████▎          | 143kB 2.8MB/s eta 0:00:01\r\u001b[K     |██████████████████████▉         | 153kB 2.8MB/s eta 0:00:01\r\u001b[K     |████████████████████████▍       | 163kB 2.8MB/s eta 0:00:01\r\u001b[K     |█████████████████████████▉      | 174kB 2.8MB/s eta 0:00:01\r\u001b[K     |███████████████████████████▍    | 184kB 2.8MB/s eta 0:00:01\r\u001b[K     |█████████████████████████████   | 194kB 2.8MB/s eta 0:00:01\r\u001b[K     |██████████████████████████████▍ | 204kB 2.8MB/s eta 0:00:01\r\u001b[K     |████████████████████████████████| 215kB 2.8MB/s eta 0:00:01\r\u001b[K     |████████████████████████████████| 225kB 2.8MB/s \n",
            "\u001b[?25hBuilding wheels for collected packages: pyshp\n",
            "  Building wheel for pyshp (setup.py) ... \u001b[?25l\u001b[?25hdone\n",
            "  Created wheel for pyshp: filename=pyshp-2.1.0-cp36-none-any.whl size=32609 sha256=e395648bf64d9db00a16a794b8ed5abb58d06d29e051114508b6290bd1681f7a\n",
            "  Stored in directory: /root/.cache/pip/wheels/a6/0c/de/321b5192ad416b328975a2f0385f72c64db4656501eba7cc1a\n",
            "Successfully built pyshp\n",
            "Installing collected packages: pyshp\n",
            "Successfully installed pyshp-2.1.0\n"
          ],
          "name": "stdout"
        }
      ]
    },
    {
      "cell_type": "code",
      "metadata": {
        "id": "JOaO1_2NEH1G",
        "colab_type": "code",
        "colab": {
          "base_uri": "https://localhost:8080/",
          "height": 70
        },
        "outputId": "8e2b5222-8e44-4259-cc09-4b52a4f8602e"
      },
      "source": [
        "import pandas as pd\n",
        "import geopandas as gpd\n",
        "import numpy as np\n",
        "import shapefile as shp\n",
        "from sklearn.cluster import KMeans\n",
        "import matplotlib.pyplot as plt\n",
        "import seaborn as sns\n",
        "from google.colab import drive"
      ],
      "execution_count": 3,
      "outputs": [
        {
          "output_type": "stream",
          "text": [
            "/usr/local/lib/python3.6/dist-packages/statsmodels/tools/_testing.py:19: FutureWarning: pandas.util.testing is deprecated. Use the functions in the public API at pandas.testing instead.\n",
            "  import pandas.util.testing as tm\n"
          ],
          "name": "stderr"
        }
      ]
    },
    {
      "cell_type": "code",
      "metadata": {
        "id": "oBw3QItHEbPZ",
        "colab_type": "code",
        "colab": {}
      },
      "source": [
        "bd = pd.read_excel('/content/drive/My Drive/Tabelas Finais CAMG /Academias/regionalizacao academias 2020 2.xlsx', header = 2)\n",
        "bd = bd.drop([193, 194])\n",
        "\n",
        "bd['Municípios'] = bd['Municípios'].str.normalize('NFKD').str.encode('ascii', errors='ignore').str.decode('utf-8')\n",
        "bd['Municípios'] = bd['Municípios'].str.strip()\n",
        "bd['Municípios'] = bd['Municípios'].str.replace('PREFEITURA DE','', regex = True)\n",
        "# bd['Municípios'] = bd['Municípios'].str.replace('CODISBURGO', 'CORDISBURGO', regex = True)\n",
        "# bd['Municípios'] = bd['Municípios'].str.replace('COMECINHO', \"COMERCINHO\", regex = True)\n",
        "bd['Municípios'] = bd['Municípios'].str.replace('FORROS', 'FERROS', regex = True)\n",
        "bd['Municípios'] = bd['Municípios'].str.replace('FRANCISCO DUMOND', 'FRANCISCO DUMONT', regex = True)\n",
        "bd['Municípios'] = bd['Municípios'].str.replace('IAGARAPE', 'IGARAPE', regex = True)\n",
        "bd['Municípios'] = bd['Municípios'].str.replace('SANTA CRUZ DAS SALINAS','SANTA CRUZ DE SALINAS', regex = True)\n",
        "bd['Municípios'] = bd['Municípios'].str.replace('SANTOS DUMOND','SANTOS DUMONT', regex = True)\n",
        "bd['Municípios'] = bd['Municípios'].str.strip()\n",
        "bd['Quantidade'] = bd['Quantidade'].astype('int')"
      ],
      "execution_count": 4,
      "outputs": []
    },
    {
      "cell_type": "code",
      "metadata": {
        "id": "3e1psAysAl_i",
        "colab_type": "code",
        "colab": {
          "base_uri": "https://localhost:8080/",
          "height": 34
        },
        "outputId": "fa2190d3-ee47-4a7e-da0b-6069c5a41ba3"
      },
      "source": [
        "len(bd)"
      ],
      "execution_count": 5,
      "outputs": [
        {
          "output_type": "execute_result",
          "data": {
            "text/plain": [
              "193"
            ]
          },
          "metadata": {
            "tags": []
          },
          "execution_count": 5
        }
      ]
    },
    {
      "cell_type": "code",
      "metadata": {
        "id": "kmIcx3EILV36",
        "colab_type": "code",
        "colab": {}
      },
      "source": [
        "padrao = pd.read_excel('/content/drive/My Drive/Tabelas Finais CAMG /padrao_municipios.xlsx')\n",
        "padrao['municipio'] = padrao['municipio'].str.strip()"
      ],
      "execution_count": 6,
      "outputs": []
    },
    {
      "cell_type": "code",
      "metadata": {
        "id": "K8TZ4jGQulIs",
        "colab_type": "code",
        "colab": {
          "base_uri": "https://localhost:8080/",
          "height": 284
        },
        "outputId": "b41a629f-e4cb-42dd-a174-f9af35618a17"
      },
      "source": [
        "padrao[padrao['municipio'].str.contains('FRANC')]"
      ],
      "execution_count": 7,
      "outputs": [
        {
          "output_type": "execute_result",
          "data": {
            "text/html": [
              "<div>\n",
              "<style scoped>\n",
              "    .dataframe tbody tr th:only-of-type {\n",
              "        vertical-align: middle;\n",
              "    }\n",
              "\n",
              "    .dataframe tbody tr th {\n",
              "        vertical-align: top;\n",
              "    }\n",
              "\n",
              "    .dataframe thead th {\n",
              "        text-align: right;\n",
              "    }\n",
              "</style>\n",
              "<table border=\"1\" class=\"dataframe\">\n",
              "  <thead>\n",
              "    <tr style=\"text-align: right;\">\n",
              "      <th></th>\n",
              "      <th>cdmun</th>\n",
              "      <th>codigo_ibge</th>\n",
              "      <th>municipio</th>\n",
              "      <th>regional</th>\n",
              "      <th>latitude</th>\n",
              "      <th>longitude</th>\n",
              "    </tr>\n",
              "  </thead>\n",
              "  <tbody>\n",
              "    <tr>\n",
              "      <th>294</th>\n",
              "      <td>2650</td>\n",
              "      <td>3126505</td>\n",
              "      <td>FRANCISCO BADARO</td>\n",
              "      <td>ARACUAI</td>\n",
              "      <td>-16.9883</td>\n",
              "      <td>-42.3568</td>\n",
              "    </tr>\n",
              "    <tr>\n",
              "      <th>295</th>\n",
              "      <td>2660</td>\n",
              "      <td>3126604</td>\n",
              "      <td>FRANCISCO DUMONT</td>\n",
              "      <td>MONTES CLAROS</td>\n",
              "      <td>-17.3107</td>\n",
              "      <td>-44.2317</td>\n",
              "    </tr>\n",
              "    <tr>\n",
              "      <th>296</th>\n",
              "      <td>2670</td>\n",
              "      <td>3126703</td>\n",
              "      <td>FRANCISCO SA</td>\n",
              "      <td>MONTES CLAROS</td>\n",
              "      <td>-16.4827</td>\n",
              "      <td>-43.4896</td>\n",
              "    </tr>\n",
              "    <tr>\n",
              "      <th>297</th>\n",
              "      <td>2675</td>\n",
              "      <td>3126752</td>\n",
              "      <td>FRANCISCOPOLIS</td>\n",
              "      <td>TEOFILO OTONI</td>\n",
              "      <td>-17.9578</td>\n",
              "      <td>-42.0094</td>\n",
              "    </tr>\n",
              "    <tr>\n",
              "      <th>712</th>\n",
              "      <td>6110</td>\n",
              "      <td>3161106</td>\n",
              "      <td>SAO FRANCISCO</td>\n",
              "      <td>MONTES CLAROS</td>\n",
              "      <td>-15.9514</td>\n",
              "      <td>-44.8593</td>\n",
              "    </tr>\n",
              "    <tr>\n",
              "      <th>713</th>\n",
              "      <td>6120</td>\n",
              "      <td>3161205</td>\n",
              "      <td>SAO FRANCISCO DE PAULA</td>\n",
              "      <td>DIVINOPOLIS</td>\n",
              "      <td>-20.7036</td>\n",
              "      <td>-44.9838</td>\n",
              "    </tr>\n",
              "    <tr>\n",
              "      <th>714</th>\n",
              "      <td>6130</td>\n",
              "      <td>3161304</td>\n",
              "      <td>SAO FRANCISCO DE SALES</td>\n",
              "      <td>ITUIUTABA</td>\n",
              "      <td>-19.8611</td>\n",
              "      <td>-49.7727</td>\n",
              "    </tr>\n",
              "    <tr>\n",
              "      <th>715</th>\n",
              "      <td>6140</td>\n",
              "      <td>3161403</td>\n",
              "      <td>SAO FRANCISCO DO GLORIA</td>\n",
              "      <td>MURIAE</td>\n",
              "      <td>-20.7923</td>\n",
              "      <td>-42.2673</td>\n",
              "    </tr>\n",
              "  </tbody>\n",
              "</table>\n",
              "</div>"
            ],
            "text/plain": [
              "     cdmun  codigo_ibge  ... latitude longitude\n",
              "294   2650      3126505  ... -16.9883  -42.3568\n",
              "295   2660      3126604  ... -17.3107  -44.2317\n",
              "296   2670      3126703  ... -16.4827  -43.4896\n",
              "297   2675      3126752  ... -17.9578  -42.0094\n",
              "712   6110      3161106  ... -15.9514  -44.8593\n",
              "713   6120      3161205  ... -20.7036  -44.9838\n",
              "714   6130      3161304  ... -19.8611  -49.7727\n",
              "715   6140      3161403  ... -20.7923  -42.2673\n",
              "\n",
              "[8 rows x 6 columns]"
            ]
          },
          "metadata": {
            "tags": []
          },
          "execution_count": 7
        }
      ]
    },
    {
      "cell_type": "code",
      "metadata": {
        "id": "M7xqkjXSFVIi",
        "colab_type": "code",
        "colab": {
          "base_uri": "https://localhost:8080/",
          "height": 34
        },
        "outputId": "7e7ca4a2-41f4-4a3c-c45e-87398501b647"
      },
      "source": [
        "bd.columns"
      ],
      "execution_count": 8,
      "outputs": [
        {
          "output_type": "execute_result",
          "data": {
            "text/plain": [
              "Index(['Municípios', 'Quantidade'], dtype='object')"
            ]
          },
          "metadata": {
            "tags": []
          },
          "execution_count": 8
        }
      ]
    },
    {
      "cell_type": "code",
      "metadata": {
        "id": "8wN0EIV3H-s4",
        "colab_type": "code",
        "colab": {
          "base_uri": "https://localhost:8080/",
          "height": 77
        },
        "outputId": "2c7d9b70-3536-40cd-c74e-511ffd077a3c"
      },
      "source": [
        "bd[bd['Municípios'].str.contains('CORD')]"
      ],
      "execution_count": 9,
      "outputs": [
        {
          "output_type": "execute_result",
          "data": {
            "text/html": [
              "<div>\n",
              "<style scoped>\n",
              "    .dataframe tbody tr th:only-of-type {\n",
              "        vertical-align: middle;\n",
              "    }\n",
              "\n",
              "    .dataframe tbody tr th {\n",
              "        vertical-align: top;\n",
              "    }\n",
              "\n",
              "    .dataframe thead th {\n",
              "        text-align: right;\n",
              "    }\n",
              "</style>\n",
              "<table border=\"1\" class=\"dataframe\">\n",
              "  <thead>\n",
              "    <tr style=\"text-align: right;\">\n",
              "      <th></th>\n",
              "      <th>Municípios</th>\n",
              "      <th>Quantidade</th>\n",
              "    </tr>\n",
              "  </thead>\n",
              "  <tbody>\n",
              "    <tr>\n",
              "      <th>54</th>\n",
              "      <td>CORDISBURGO</td>\n",
              "      <td>1</td>\n",
              "    </tr>\n",
              "  </tbody>\n",
              "</table>\n",
              "</div>"
            ],
            "text/plain": [
              "     Municípios  Quantidade\n",
              "54  CORDISBURGO           1"
            ]
          },
          "metadata": {
            "tags": []
          },
          "execution_count": 9
        }
      ]
    },
    {
      "cell_type": "code",
      "metadata": {
        "id": "bVGJGhoIK1DY",
        "colab_type": "code",
        "colab": {
          "base_uri": "https://localhost:8080/",
          "height": 47
        },
        "outputId": "17871f73-2793-4266-ce49-73cdeee255d1"
      },
      "source": [
        "bd[bd['Municípios'].duplicated()]"
      ],
      "execution_count": 10,
      "outputs": [
        {
          "output_type": "execute_result",
          "data": {
            "text/html": [
              "<div>\n",
              "<style scoped>\n",
              "    .dataframe tbody tr th:only-of-type {\n",
              "        vertical-align: middle;\n",
              "    }\n",
              "\n",
              "    .dataframe tbody tr th {\n",
              "        vertical-align: top;\n",
              "    }\n",
              "\n",
              "    .dataframe thead th {\n",
              "        text-align: right;\n",
              "    }\n",
              "</style>\n",
              "<table border=\"1\" class=\"dataframe\">\n",
              "  <thead>\n",
              "    <tr style=\"text-align: right;\">\n",
              "      <th></th>\n",
              "      <th>Municípios</th>\n",
              "      <th>Quantidade</th>\n",
              "    </tr>\n",
              "  </thead>\n",
              "  <tbody>\n",
              "  </tbody>\n",
              "</table>\n",
              "</div>"
            ],
            "text/plain": [
              "Empty DataFrame\n",
              "Columns: [Municípios, Quantidade]\n",
              "Index: []"
            ]
          },
          "metadata": {
            "tags": []
          },
          "execution_count": 10
        }
      ]
    },
    {
      "cell_type": "code",
      "metadata": {
        "id": "GVCyp2VWFwnE",
        "colab_type": "code",
        "colab": {}
      },
      "source": [
        "bd = bd.merge(padrao, how = 'right', left_on ='Municípios', right_on = 'municipio')"
      ],
      "execution_count": 11,
      "outputs": []
    },
    {
      "cell_type": "code",
      "metadata": {
        "id": "17RKS_hxG1Kn",
        "colab_type": "code",
        "colab": {
          "base_uri": "https://localhost:8080/",
          "height": 639
        },
        "outputId": "e26edf71-66ad-4854-b99a-d0bc95b668b4"
      },
      "source": [
        "bd.head(20)"
      ],
      "execution_count": 12,
      "outputs": [
        {
          "output_type": "execute_result",
          "data": {
            "text/html": [
              "<div>\n",
              "<style scoped>\n",
              "    .dataframe tbody tr th:only-of-type {\n",
              "        vertical-align: middle;\n",
              "    }\n",
              "\n",
              "    .dataframe tbody tr th {\n",
              "        vertical-align: top;\n",
              "    }\n",
              "\n",
              "    .dataframe thead th {\n",
              "        text-align: right;\n",
              "    }\n",
              "</style>\n",
              "<table border=\"1\" class=\"dataframe\">\n",
              "  <thead>\n",
              "    <tr style=\"text-align: right;\">\n",
              "      <th></th>\n",
              "      <th>Municípios</th>\n",
              "      <th>Quantidade</th>\n",
              "      <th>cdmun</th>\n",
              "      <th>codigo_ibge</th>\n",
              "      <th>municipio</th>\n",
              "      <th>regional</th>\n",
              "      <th>latitude</th>\n",
              "      <th>longitude</th>\n",
              "    </tr>\n",
              "  </thead>\n",
              "  <tbody>\n",
              "    <tr>\n",
              "      <th>0</th>\n",
              "      <td>ABADIA DOS DOURADOS</td>\n",
              "      <td>1.0</td>\n",
              "      <td>10</td>\n",
              "      <td>3100104</td>\n",
              "      <td>ABADIA DOS DOURADOS</td>\n",
              "      <td>UBERLANDIA</td>\n",
              "      <td>-18.4831</td>\n",
              "      <td>-47.3916</td>\n",
              "    </tr>\n",
              "    <tr>\n",
              "      <th>1</th>\n",
              "      <td>ABAETE</td>\n",
              "      <td>2.0</td>\n",
              "      <td>20</td>\n",
              "      <td>3100203</td>\n",
              "      <td>ABAETE</td>\n",
              "      <td>DIVINOPOLIS</td>\n",
              "      <td>-19.1551</td>\n",
              "      <td>-45.4444</td>\n",
              "    </tr>\n",
              "    <tr>\n",
              "      <th>2</th>\n",
              "      <td>ACUCENA</td>\n",
              "      <td>1.0</td>\n",
              "      <td>50</td>\n",
              "      <td>3100500</td>\n",
              "      <td>ACUCENA</td>\n",
              "      <td>GOVERNADOR VALADARES</td>\n",
              "      <td>-19.0671</td>\n",
              "      <td>-42.5419</td>\n",
              "    </tr>\n",
              "    <tr>\n",
              "      <th>3</th>\n",
              "      <td>AGUA COMPRIDA</td>\n",
              "      <td>1.0</td>\n",
              "      <td>70</td>\n",
              "      <td>3100708</td>\n",
              "      <td>AGUA COMPRIDA</td>\n",
              "      <td>UBERABA</td>\n",
              "      <td>-20.0576</td>\n",
              "      <td>-48.1069</td>\n",
              "    </tr>\n",
              "    <tr>\n",
              "      <th>4</th>\n",
              "      <td>AGUANIL</td>\n",
              "      <td>2.0</td>\n",
              "      <td>80</td>\n",
              "      <td>3100807</td>\n",
              "      <td>AGUANIL</td>\n",
              "      <td>DIVINOPOLIS</td>\n",
              "      <td>-20.9439</td>\n",
              "      <td>-45.3915</td>\n",
              "    </tr>\n",
              "    <tr>\n",
              "      <th>5</th>\n",
              "      <td>ALBERTINA</td>\n",
              "      <td>1.0</td>\n",
              "      <td>140</td>\n",
              "      <td>3101409</td>\n",
              "      <td>ALBERTINA</td>\n",
              "      <td>POCOS DE CALDAS</td>\n",
              "      <td>-22.2018</td>\n",
              "      <td>-46.6139</td>\n",
              "    </tr>\n",
              "    <tr>\n",
              "      <th>6</th>\n",
              "      <td>ALFENAS</td>\n",
              "      <td>5.0</td>\n",
              "      <td>160</td>\n",
              "      <td>3101607</td>\n",
              "      <td>ALFENAS</td>\n",
              "      <td>VARGINHA</td>\n",
              "      <td>-21.4256</td>\n",
              "      <td>-45.9477</td>\n",
              "    </tr>\n",
              "    <tr>\n",
              "      <th>7</th>\n",
              "      <td>ALMENARA</td>\n",
              "      <td>1.0</td>\n",
              "      <td>170</td>\n",
              "      <td>3101706</td>\n",
              "      <td>ALMENARA</td>\n",
              "      <td>ALMENARA</td>\n",
              "      <td>-16.1785</td>\n",
              "      <td>-40.6942</td>\n",
              "    </tr>\n",
              "    <tr>\n",
              "      <th>8</th>\n",
              "      <td>ALVINOPOLIS</td>\n",
              "      <td>1.0</td>\n",
              "      <td>230</td>\n",
              "      <td>3102308</td>\n",
              "      <td>ALVINOPOLIS</td>\n",
              "      <td>TIMOTEO</td>\n",
              "      <td>-20.1098</td>\n",
              "      <td>-43.0535</td>\n",
              "    </tr>\n",
              "    <tr>\n",
              "      <th>9</th>\n",
              "      <td>AMPARO DO SERRA</td>\n",
              "      <td>2.0</td>\n",
              "      <td>250</td>\n",
              "      <td>3102506</td>\n",
              "      <td>AMPARO DO SERRA</td>\n",
              "      <td>MURIAE</td>\n",
              "      <td>-20.5051</td>\n",
              "      <td>-42.8009</td>\n",
              "    </tr>\n",
              "    <tr>\n",
              "      <th>10</th>\n",
              "      <td>ANDRELANDIA</td>\n",
              "      <td>2.0</td>\n",
              "      <td>280</td>\n",
              "      <td>3102803</td>\n",
              "      <td>ANDRELANDIA</td>\n",
              "      <td>JUIZ DE FORA</td>\n",
              "      <td>-21.7411</td>\n",
              "      <td>-44.3117</td>\n",
              "    </tr>\n",
              "    <tr>\n",
              "      <th>11</th>\n",
              "      <td>ANTONIO CARLOS</td>\n",
              "      <td>1.0</td>\n",
              "      <td>290</td>\n",
              "      <td>3102902</td>\n",
              "      <td>ANTONIO CARLOS</td>\n",
              "      <td>SAO JOAO DEL REI</td>\n",
              "      <td>-21.3210</td>\n",
              "      <td>-43.7451</td>\n",
              "    </tr>\n",
              "    <tr>\n",
              "      <th>12</th>\n",
              "      <td>ANTONIO DIAS</td>\n",
              "      <td>1.0</td>\n",
              "      <td>300</td>\n",
              "      <td>3103009</td>\n",
              "      <td>ANTONIO DIAS</td>\n",
              "      <td>TIMOTEO</td>\n",
              "      <td>-19.6491</td>\n",
              "      <td>-42.8732</td>\n",
              "    </tr>\n",
              "    <tr>\n",
              "      <th>13</th>\n",
              "      <td>ARACUAI</td>\n",
              "      <td>1.0</td>\n",
              "      <td>340</td>\n",
              "      <td>3103405</td>\n",
              "      <td>ARACUAI</td>\n",
              "      <td>ARACUAI</td>\n",
              "      <td>-16.8523</td>\n",
              "      <td>-42.0637</td>\n",
              "    </tr>\n",
              "    <tr>\n",
              "      <th>14</th>\n",
              "      <td>AREADO</td>\n",
              "      <td>1.0</td>\n",
              "      <td>430</td>\n",
              "      <td>3104304</td>\n",
              "      <td>AREADO</td>\n",
              "      <td>VARGINHA</td>\n",
              "      <td>-21.3572</td>\n",
              "      <td>-46.1421</td>\n",
              "    </tr>\n",
              "    <tr>\n",
              "      <th>15</th>\n",
              "      <td>ARGIRITA</td>\n",
              "      <td>1.0</td>\n",
              "      <td>440</td>\n",
              "      <td>3104403</td>\n",
              "      <td>ARGIRITA</td>\n",
              "      <td>JUIZ DE FORA</td>\n",
              "      <td>-21.6083</td>\n",
              "      <td>-42.8292</td>\n",
              "    </tr>\n",
              "    <tr>\n",
              "      <th>16</th>\n",
              "      <td>ARINOS</td>\n",
              "      <td>1.0</td>\n",
              "      <td>450</td>\n",
              "      <td>3104502</td>\n",
              "      <td>ARINOS</td>\n",
              "      <td>PARACATU</td>\n",
              "      <td>-15.9187</td>\n",
              "      <td>-46.1043</td>\n",
              "    </tr>\n",
              "    <tr>\n",
              "      <th>17</th>\n",
              "      <td>AUGUSTO DE LIMA</td>\n",
              "      <td>2.0</td>\n",
              "      <td>480</td>\n",
              "      <td>3104809</td>\n",
              "      <td>AUGUSTO DE LIMA</td>\n",
              "      <td>CURVELO</td>\n",
              "      <td>-18.0997</td>\n",
              "      <td>-44.2655</td>\n",
              "    </tr>\n",
              "    <tr>\n",
              "      <th>18</th>\n",
              "      <td>BANDEIRA</td>\n",
              "      <td>2.0</td>\n",
              "      <td>520</td>\n",
              "      <td>3105202</td>\n",
              "      <td>BANDEIRA</td>\n",
              "      <td>ALMENARA</td>\n",
              "      <td>-15.8783</td>\n",
              "      <td>-40.5622</td>\n",
              "    </tr>\n",
              "    <tr>\n",
              "      <th>19</th>\n",
              "      <td>BARRA LONGA</td>\n",
              "      <td>4.0</td>\n",
              "      <td>570</td>\n",
              "      <td>3105707</td>\n",
              "      <td>BARRA LONGA</td>\n",
              "      <td>TIMOTEO</td>\n",
              "      <td>-20.2869</td>\n",
              "      <td>-43.0402</td>\n",
              "    </tr>\n",
              "  </tbody>\n",
              "</table>\n",
              "</div>"
            ],
            "text/plain": [
              "             Municípios  Quantidade  ...  latitude  longitude\n",
              "0   ABADIA DOS DOURADOS         1.0  ...  -18.4831   -47.3916\n",
              "1                ABAETE         2.0  ...  -19.1551   -45.4444\n",
              "2               ACUCENA         1.0  ...  -19.0671   -42.5419\n",
              "3         AGUA COMPRIDA         1.0  ...  -20.0576   -48.1069\n",
              "4               AGUANIL         2.0  ...  -20.9439   -45.3915\n",
              "5             ALBERTINA         1.0  ...  -22.2018   -46.6139\n",
              "6               ALFENAS         5.0  ...  -21.4256   -45.9477\n",
              "7              ALMENARA         1.0  ...  -16.1785   -40.6942\n",
              "8           ALVINOPOLIS         1.0  ...  -20.1098   -43.0535\n",
              "9       AMPARO DO SERRA         2.0  ...  -20.5051   -42.8009\n",
              "10          ANDRELANDIA         2.0  ...  -21.7411   -44.3117\n",
              "11       ANTONIO CARLOS         1.0  ...  -21.3210   -43.7451\n",
              "12         ANTONIO DIAS         1.0  ...  -19.6491   -42.8732\n",
              "13              ARACUAI         1.0  ...  -16.8523   -42.0637\n",
              "14               AREADO         1.0  ...  -21.3572   -46.1421\n",
              "15             ARGIRITA         1.0  ...  -21.6083   -42.8292\n",
              "16               ARINOS         1.0  ...  -15.9187   -46.1043\n",
              "17      AUGUSTO DE LIMA         2.0  ...  -18.0997   -44.2655\n",
              "18             BANDEIRA         2.0  ...  -15.8783   -40.5622\n",
              "19          BARRA LONGA         4.0  ...  -20.2869   -43.0402\n",
              "\n",
              "[20 rows x 8 columns]"
            ]
          },
          "metadata": {
            "tags": []
          },
          "execution_count": 12
        }
      ]
    },
    {
      "cell_type": "code",
      "metadata": {
        "id": "YL-tG4H8bZOp",
        "colab_type": "code",
        "colab": {}
      },
      "source": [
        "bd = bd[['codigo_ibge', 'municipio', 'Quantidade', 'regional', 'latitude', 'longitude']]"
      ],
      "execution_count": 13,
      "outputs": []
    },
    {
      "cell_type": "code",
      "metadata": {
        "id": "s7TbRNUsouBG",
        "colab_type": "code",
        "colab": {}
      },
      "source": [
        "bd.to_excel('/content/drive/My Drive/Tabelas Finais CAMG /Academias/regionalizacao_academia.xlsx')"
      ],
      "execution_count": 14,
      "outputs": []
    },
    {
      "cell_type": "code",
      "metadata": {
        "id": "aa3tCFxQvZve",
        "colab_type": "code",
        "colab": {}
      },
      "source": [
        "# X = bd[['cdmun', 'codigo_ibge','municipio', 'Quantidade', 'regional', 'latitude', 'longitude']]"
      ],
      "execution_count": 15,
      "outputs": []
    },
    {
      "cell_type": "code",
      "metadata": {
        "id": "tTmtl2RIQr6U",
        "colab_type": "code",
        "colab": {}
      },
      "source": [
        "X = bd.copy()"
      ],
      "execution_count": 16,
      "outputs": []
    },
    {
      "cell_type": "code",
      "metadata": {
        "id": "D9RQ2l-mRWue",
        "colab_type": "code",
        "colab": {}
      },
      "source": [
        "# X.plot.scatter(x = 'latitude', y = 'longitude', c=labels, s=50, cmap='viridis')\n",
        "# plt.scatter(centers[:, 0], centers[:, 1], c='black', s=200, alpha=0.5)"
      ],
      "execution_count": 18,
      "outputs": []
    },
    {
      "cell_type": "code",
      "metadata": {
        "id": "ErPOYYvlRk4j",
        "colab_type": "code",
        "colab": {}
      },
      "source": [
        "shp_path = '/content/drive/My Drive/Bancos de Dados CAMG/Mapa MG/MG_Unidade_Federacao_2017_ago.shp'\n",
        "mapamg = gpd.read_file(shp_path)\n",
        "mg = shp.Reader(shp_path)"
      ],
      "execution_count": 19,
      "outputs": []
    },
    {
      "cell_type": "markdown",
      "metadata": {
        "id": "ASYWsa2JZvnj",
        "colab_type": "text"
      },
      "source": [
        "# Para todos os municípios\n"
      ]
    },
    {
      "cell_type": "code",
      "metadata": {
        "id": "rKiAXyupdzGr",
        "colab_type": "code",
        "colab": {}
      },
      "source": [
        "todos = X[['codigo_ibge', 'municipio', 'latitude', 'longitude']]"
      ],
      "execution_count": 20,
      "outputs": []
    },
    {
      "cell_type": "code",
      "metadata": {
        "id": "FKlhsbgmds2a",
        "colab_type": "code",
        "colab": {
          "base_uri": "https://localhost:8080/",
          "height": 118
        },
        "outputId": "ded17014-d90a-4da2-85eb-db277c63015c"
      },
      "source": [
        "# Para todos os municípios\n",
        "kmeans = KMeans(n_clusters = 5, init= 'k-means++', n_init= 1000, max_iter = 10000)\n",
        "kmeans.fit(todos[todos.columns[2:4]]) # Compute k-means clustering.\n",
        "todos['cluster_label'] = kmeans.fit_predict(todos[todos.columns[2:4]])\n",
        "centers = kmeans.cluster_centers_ # Coordinates of cluster centers.\n",
        "labels = kmeans.predict(todos[todos.columns[2:4]]) # Labels of each point"
      ],
      "execution_count": 21,
      "outputs": [
        {
          "output_type": "stream",
          "text": [
            "/usr/local/lib/python3.6/dist-packages/ipykernel_launcher.py:4: SettingWithCopyWarning: \n",
            "A value is trying to be set on a copy of a slice from a DataFrame.\n",
            "Try using .loc[row_indexer,col_indexer] = value instead\n",
            "\n",
            "See the caveats in the documentation: https://pandas.pydata.org/pandas-docs/stable/user_guide/indexing.html#returning-a-view-versus-a-copy\n",
            "  after removing the cwd from sys.path.\n"
          ],
          "name": "stderr"
        }
      ]
    },
    {
      "cell_type": "code",
      "metadata": {
        "id": "ICiHqyFuUXYB",
        "colab_type": "code",
        "colab": {}
      },
      "source": [
        "geo = gpd.GeoDataFrame(\n",
        "    todos, geometry=gpd.points_from_xy(todos.longitude, todos.latitude))"
      ],
      "execution_count": 22,
      "outputs": []
    },
    {
      "cell_type": "code",
      "metadata": {
        "id": "mAqLbVG6SD2a",
        "colab_type": "code",
        "colab": {
          "base_uri": "https://localhost:8080/",
          "height": 474
        },
        "outputId": "39304c9c-3d59-45a2-ff75-a760806e5bf4"
      },
      "source": [
        "from mpl_toolkits.axes_grid1 import make_axes_locatable\n",
        "sns.set(style= \"whitegrid\", palette= \"pastel\", color_codes=True)\n",
        "fig, ax = plt.subplots(1,1, figsize = (10, 10))\n",
        "plt.title('Agrupamento de todos os municípios')\n",
        "divider = make_axes_locatable(ax)  # para alinhar a legenda ao mapa\n",
        "cax = divider.append_axes(\"right\", size=\"5%\", pad=0.1) #para alinhar a legenda ao mapa\n",
        "mapamg.plot(ax=ax, color = 'grey', figsize = (10,10), alpha = 0.4)\n",
        "geo.plot(ax=ax, column = 'cluster_label', cmap='CMRmap', legend = True, cax = cax)\n",
        "plt.show()"
      ],
      "execution_count": 23,
      "outputs": [
        {
          "output_type": "display_data",
          "data": {
            "image/png": "[encoded data removed]",
            "text/plain": [
              "<Figure size 720x720 with 2 Axes>"
            ]
          },
          "metadata": {
            "tags": []
          }
        }
      ]
    },
    {
      "cell_type": "code",
      "metadata": {
        "id": "E6xXzWfEhCmX",
        "colab_type": "code",
        "colab": {
          "base_uri": "https://localhost:8080/",
          "height": 118
        },
        "outputId": "1e9af2a2-0b0f-4900-d472-fb1d4a3fba72"
      },
      "source": [
        "geo['cluster_label'].value_counts()"
      ],
      "execution_count": 24,
      "outputs": [
        {
          "output_type": "execute_result",
          "data": {
            "text/plain": [
              "0    321\n",
              "3    207\n",
              "4    146\n",
              "1     91\n",
              "2     88\n",
              "Name: cluster_label, dtype: int64"
            ]
          },
          "metadata": {
            "tags": []
          },
          "execution_count": 24
        }
      ]
    },
    {
      "cell_type": "code",
      "metadata": {
        "id": "Nn9PxcpvdJQ7",
        "colab_type": "code",
        "colab": {}
      },
      "source": [
        "geo.to_excel('/content/drive/My Drive/Tabelas Finais CAMG /Academias/todos_municipios.xlsx')"
      ],
      "execution_count": 25,
      "outputs": []
    },
    {
      "cell_type": "markdown",
      "metadata": {
        "id": "fp9GQwMtcAPe",
        "colab_type": "text"
      },
      "source": [
        "## Academia sem Quantidades\n",
        "\n"
      ]
    },
    {
      "cell_type": "code",
      "metadata": {
        "id": "KEj-EQBlRCuX",
        "colab_type": "code",
        "colab": {}
      },
      "source": [
        "academia = X[X['Quantidade'] > 0]"
      ],
      "execution_count": null,
      "outputs": []
    },
    {
      "cell_type": "code",
      "metadata": {
        "id": "x0HuM8vTWWQg",
        "colab_type": "code",
        "colab": {}
      },
      "source": [
        "len(academia)"
      ],
      "execution_count": null,
      "outputs": []
    },
    {
      "cell_type": "code",
      "metadata": {
        "id": "Fkjc3IasdP9a",
        "colab_type": "code",
        "colab": {}
      },
      "source": [
        "academia = academia[['codigo_ibge', 'municipio','latitude', 'longitude']]"
      ],
      "execution_count": null,
      "outputs": []
    },
    {
      "cell_type": "code",
      "metadata": {
        "id": "Wx1HVi1adYo6",
        "colab_type": "code",
        "colab": {}
      },
      "source": [
        "academia.head()"
      ],
      "execution_count": null,
      "outputs": []
    },
    {
      "cell_type": "code",
      "metadata": {
        "id": "h2hZk3XdWbhs",
        "colab_type": "code",
        "colab": {}
      },
      "source": [
        "# Para as academias\n",
        "kmeans = KMeans(n_clusters = 5, init ='k-means++', n_init= 1000, max_iter = 10000)\n",
        "kmeans.fit(academia[academia.columns[2:4]]) # Compute k-means clustering.\n",
        "academia['cluster_label'] = kmeans.fit_predict(academia[academia.columns[2:4]])\n",
        "centers = kmeans.cluster_centers_ # Coordinates of cluster centers.\n",
        "labels = kmeans.predict(academia[academia.columns[2:4]]) # Labels of each point\n"
      ],
      "execution_count": null,
      "outputs": []
    },
    {
      "cell_type": "code",
      "metadata": {
        "id": "fTq2WSipW7KO",
        "colab_type": "code",
        "colab": {
          "base_uri": "https://localhost:8080/",
          "height": 275
        },
        "outputId": "f07c9d37-90e0-4137-8057-e64a3965e35b"
      },
      "source": [
        "academia.plot.scatter(x = 'latitude', y = 'longitude', c=labels, s=50, cmap='viridis')\n",
        "plt.scatter(centers[:, 0], centers[:, 1], c='black', s=200, alpha=0.5)"
      ],
      "execution_count": 31,
      "outputs": [
        {
          "output_type": "execute_result",
          "data": {
            "text/plain": [
              "<matplotlib.collections.PathCollection at 0x7f32e9e5a780>"
            ]
          },
          "metadata": {
            "tags": []
          },
          "execution_count": 31
        },
        {
          "output_type": "display_data",
          "data": {
            "image/png": "[encoded data removed]",
            "text/plain": [
              "<Figure size 432x288 with 2 Axes>"
            ]
          },
          "metadata": {
            "tags": []
          }
        }
      ]
    },
    {
      "cell_type": "code",
      "metadata": {
        "id": "G23De2UrXBrd",
        "colab_type": "code",
        "colab": {}
      },
      "source": [
        "geo_academia = gpd.GeoDataFrame(\n",
        "    academia, geometry=gpd.points_from_xy(academia.longitude, academia.latitude))"
      ],
      "execution_count": 32,
      "outputs": []
    },
    {
      "cell_type": "code",
      "metadata": {
        "id": "AAE8usIBXUge",
        "colab_type": "code",
        "colab": {
          "base_uri": "https://localhost:8080/",
          "height": 474
        },
        "outputId": "f63e285f-4a04-473c-9bce-164408dd00e1"
      },
      "source": [
        "from mpl_toolkits.axes_grid1 import make_axes_locatable\n",
        "sns.set(style= \"whitegrid\", palette= \"pastel\", color_codes=True)\n",
        "\n",
        "fig, ax = plt.subplots(1,1, figsize = (10, 10))\n",
        "plt.title('Municípios com indicação de nº de academias')\n",
        "divider = make_axes_locatable(ax)  # para alinhar a legenda ao mapa\n",
        "cax = divider.append_axes(\"right\", size=\"5%\", pad=0.1) #para alinhar a legenda ao mapa\n",
        "mapamg.plot(ax=ax, color = 'grey', figsize = (10,10), alpha = 0.4)\n",
        "geo_academia.plot(ax=ax, column = 'cluster_label', cmap='CMRmap', legend = True, cax = cax)\n",
        "plt.show()"
      ],
      "execution_count": 33,
      "outputs": [
        {
          "output_type": "display_data",
          "data": {
            "image/png": "[encoded data removed]",
            "text/plain": [
              "<Figure size 720x720 with 2 Axes>"
            ]
          },
          "metadata": {
            "tags": []
          }
        }
      ]
    },
    {
      "cell_type": "code",
      "metadata": {
        "id": "5enCQ4l2h7NW",
        "colab_type": "code",
        "colab": {}
      },
      "source": [
        "geo_academia.to_excel('/content/drive/My Drive/Tabelas Finais CAMG /Academias/clustering_academias_apenas_localizacao.xlsx')"
      ],
      "execution_count": 34,
      "outputs": []
    },
    {
      "cell_type": "markdown",
      "metadata": {
        "id": "ZNH8bfF3jL60",
        "colab_type": "text"
      },
      "source": [
        "## Academia com Quantidades"
      ]
    },
    {
      "cell_type": "code",
      "metadata": {
        "id": "Uhlpvh0SjOp_",
        "colab_type": "code",
        "colab": {}
      },
      "source": [
        "academia_qtde = X[X['Quantidade'] >0]"
      ],
      "execution_count": 42,
      "outputs": []
    },
    {
      "cell_type": "code",
      "metadata": {
        "id": "MgN5eNqWjXyM",
        "colab_type": "code",
        "colab": {
          "base_uri": "https://localhost:8080/",
          "height": 34
        },
        "outputId": "9e797ca8-e627-49ea-85fd-3a662df5ceb7"
      },
      "source": [
        "len(academia)"
      ],
      "execution_count": 43,
      "outputs": [
        {
          "output_type": "execute_result",
          "data": {
            "text/plain": [
              "191"
            ]
          },
          "metadata": {
            "tags": []
          },
          "execution_count": 43
        }
      ]
    },
    {
      "cell_type": "code",
      "metadata": {
        "id": "ONWODAyXj2zr",
        "colab_type": "code",
        "colab": {}
      },
      "source": [
        "academia_qtde = academia_qtde[['codigo_ibge', 'municipio', 'Quantidade', 'latitude', 'longitude']]"
      ],
      "execution_count": 44,
      "outputs": []
    },
    {
      "cell_type": "code",
      "metadata": {
        "id": "OVMwBnZ-3nhe",
        "colab_type": "code",
        "colab": {}
      },
      "source": [
        "X = academia_qtde.copy()"
      ],
      "execution_count": 45,
      "outputs": []
    },
    {
      "cell_type": "code",
      "metadata": {
        "id": "m92O8a0HT22w",
        "colab_type": "code",
        "colab": {
          "base_uri": "https://localhost:8080/",
          "height": 195
        },
        "outputId": "151023b2-ed0f-4b13-8365-69403b6d1068"
      },
      "source": [
        "X.head()"
      ],
      "execution_count": 46,
      "outputs": [
        {
          "output_type": "execute_result",
          "data": {
            "text/html": [
              "<div>\n",
              "<style scoped>\n",
              "    .dataframe tbody tr th:only-of-type {\n",
              "        vertical-align: middle;\n",
              "    }\n",
              "\n",
              "    .dataframe tbody tr th {\n",
              "        vertical-align: top;\n",
              "    }\n",
              "\n",
              "    .dataframe thead th {\n",
              "        text-align: right;\n",
              "    }\n",
              "</style>\n",
              "<table border=\"1\" class=\"dataframe\">\n",
              "  <thead>\n",
              "    <tr style=\"text-align: right;\">\n",
              "      <th></th>\n",
              "      <th>codigo_ibge</th>\n",
              "      <th>municipio</th>\n",
              "      <th>Quantidade</th>\n",
              "      <th>latitude</th>\n",
              "      <th>longitude</th>\n",
              "    </tr>\n",
              "  </thead>\n",
              "  <tbody>\n",
              "    <tr>\n",
              "      <th>0</th>\n",
              "      <td>3100104</td>\n",
              "      <td>ABADIA DOS DOURADOS</td>\n",
              "      <td>1.0</td>\n",
              "      <td>-18.4831</td>\n",
              "      <td>-47.3916</td>\n",
              "    </tr>\n",
              "    <tr>\n",
              "      <th>1</th>\n",
              "      <td>3100203</td>\n",
              "      <td>ABAETE</td>\n",
              "      <td>2.0</td>\n",
              "      <td>-19.1551</td>\n",
              "      <td>-45.4444</td>\n",
              "    </tr>\n",
              "    <tr>\n",
              "      <th>2</th>\n",
              "      <td>3100500</td>\n",
              "      <td>ACUCENA</td>\n",
              "      <td>1.0</td>\n",
              "      <td>-19.0671</td>\n",
              "      <td>-42.5419</td>\n",
              "    </tr>\n",
              "    <tr>\n",
              "      <th>3</th>\n",
              "      <td>3100708</td>\n",
              "      <td>AGUA COMPRIDA</td>\n",
              "      <td>1.0</td>\n",
              "      <td>-20.0576</td>\n",
              "      <td>-48.1069</td>\n",
              "    </tr>\n",
              "    <tr>\n",
              "      <th>4</th>\n",
              "      <td>3100807</td>\n",
              "      <td>AGUANIL</td>\n",
              "      <td>2.0</td>\n",
              "      <td>-20.9439</td>\n",
              "      <td>-45.3915</td>\n",
              "    </tr>\n",
              "  </tbody>\n",
              "</table>\n",
              "</div>"
            ],
            "text/plain": [
              "   codigo_ibge            municipio  Quantidade  latitude  longitude\n",
              "0      3100104  ABADIA DOS DOURADOS         1.0  -18.4831   -47.3916\n",
              "1      3100203               ABAETE         2.0  -19.1551   -45.4444\n",
              "2      3100500              ACUCENA         1.0  -19.0671   -42.5419\n",
              "3      3100708        AGUA COMPRIDA         1.0  -20.0576   -48.1069\n",
              "4      3100807              AGUANIL         2.0  -20.9439   -45.3915"
            ]
          },
          "metadata": {
            "tags": []
          },
          "execution_count": 46
        }
      ]
    },
    {
      "cell_type": "code",
      "metadata": {
        "id": "YW3fhx5NUC0_",
        "colab_type": "code",
        "colab": {
          "base_uri": "https://localhost:8080/",
          "height": 34
        },
        "outputId": "3f4c6db6-d6ab-4f64-91eb-30a8c83822a1"
      },
      "source": [
        "X.columns[1:4]"
      ],
      "execution_count": 47,
      "outputs": [
        {
          "output_type": "execute_result",
          "data": {
            "text/plain": [
              "Index(['municipio', 'Quantidade', 'latitude'], dtype='object')"
            ]
          },
          "metadata": {
            "tags": []
          },
          "execution_count": 47
        }
      ]
    },
    {
      "cell_type": "code",
      "metadata": {
        "id": "Yhw64iExj-gU",
        "colab_type": "code",
        "colab": {
          "base_uri": "https://localhost:8080/",
          "height": 390
        },
        "outputId": "dd20b1ea-d0d9-4066-e925-a9a0d2101032"
      },
      "source": [
        "kmeans = KMeans(n_clusters = 5, init ='k-means++', n_init= 1000, max_iter = 10000)\n",
        "\n",
        "kmeans.fit(X[['Quantidade']]) # Compute k-means clustering.\n",
        "academia_qtde['cluster_label'] = kmeans.fit_predict(academia_qtde[academia_qtde['Quantidade']])\n",
        "centers = kmeans.cluster_centers_ # Coordinates of cluster centers.\n",
        "labels = kmeans.predict(academia_qtde[academia_qtde['Quantidade']]) # Labels of each point"
      ],
      "execution_count": 48,
      "outputs": [
        {
          "output_type": "error",
          "ename": "KeyError",
          "evalue": "ignored",
          "traceback": [
            "\u001b[0;31m---------------------------------------------------------------------------\u001b[0m",
            "\u001b[0;31mKeyError\u001b[0m                                  Traceback (most recent call last)",
            "\u001b[0;32m<ipython-input-48-1435de2b6f33>\u001b[0m in \u001b[0;36m<module>\u001b[0;34m()\u001b[0m\n\u001b[1;32m      2\u001b[0m \u001b[0;34m\u001b[0m\u001b[0m\n\u001b[1;32m      3\u001b[0m \u001b[0mkmeans\u001b[0m\u001b[0;34m.\u001b[0m\u001b[0mfit\u001b[0m\u001b[0;34m(\u001b[0m\u001b[0mX\u001b[0m\u001b[0;34m[\u001b[0m\u001b[0;34m[\u001b[0m\u001b[0;34m'Quantidade'\u001b[0m\u001b[0;34m]\u001b[0m\u001b[0;34m]\u001b[0m\u001b[0;34m)\u001b[0m \u001b[0;31m# Compute k-means clustering.\u001b[0m\u001b[0;34m\u001b[0m\u001b[0;34m\u001b[0m\u001b[0m\n\u001b[0;32m----> 4\u001b[0;31m \u001b[0macademia_qtde\u001b[0m\u001b[0;34m[\u001b[0m\u001b[0;34m'cluster_label'\u001b[0m\u001b[0;34m]\u001b[0m \u001b[0;34m=\u001b[0m \u001b[0mkmeans\u001b[0m\u001b[0;34m.\u001b[0m\u001b[0mfit_predict\u001b[0m\u001b[0;34m(\u001b[0m\u001b[0macademia_qtde\u001b[0m\u001b[0;34m[\u001b[0m\u001b[0macademia_qtde\u001b[0m\u001b[0;34m[\u001b[0m\u001b[0;34m'Quantidade'\u001b[0m\u001b[0;34m]\u001b[0m\u001b[0;34m]\u001b[0m\u001b[0;34m)\u001b[0m\u001b[0;34m\u001b[0m\u001b[0;34m\u001b[0m\u001b[0m\n\u001b[0m\u001b[1;32m      5\u001b[0m \u001b[0mcenters\u001b[0m \u001b[0;34m=\u001b[0m \u001b[0mkmeans\u001b[0m\u001b[0;34m.\u001b[0m\u001b[0mcluster_centers_\u001b[0m \u001b[0;31m# Coordinates of cluster centers.\u001b[0m\u001b[0;34m\u001b[0m\u001b[0;34m\u001b[0m\u001b[0m\n\u001b[1;32m      6\u001b[0m \u001b[0mlabels\u001b[0m \u001b[0;34m=\u001b[0m \u001b[0mkmeans\u001b[0m\u001b[0;34m.\u001b[0m\u001b[0mpredict\u001b[0m\u001b[0;34m(\u001b[0m\u001b[0macademia_qtde\u001b[0m\u001b[0;34m[\u001b[0m\u001b[0macademia_qtde\u001b[0m\u001b[0;34m[\u001b[0m\u001b[0;34m'Quantidade'\u001b[0m\u001b[0;34m]\u001b[0m\u001b[0;34m]\u001b[0m\u001b[0;34m)\u001b[0m \u001b[0;31m# Labels of each point\u001b[0m\u001b[0;34m\u001b[0m\u001b[0;34m\u001b[0m\u001b[0m\n",
            "\u001b[0;32m/usr/local/lib/python3.6/dist-packages/pandas/core/frame.py\u001b[0m in \u001b[0;36m__getitem__\u001b[0;34m(self, key)\u001b[0m\n\u001b[1;32m   2804\u001b[0m             \u001b[0;32mif\u001b[0m \u001b[0mis_iterator\u001b[0m\u001b[0;34m(\u001b[0m\u001b[0mkey\u001b[0m\u001b[0;34m)\u001b[0m\u001b[0;34m:\u001b[0m\u001b[0;34m\u001b[0m\u001b[0;34m\u001b[0m\u001b[0m\n\u001b[1;32m   2805\u001b[0m                 \u001b[0mkey\u001b[0m \u001b[0;34m=\u001b[0m \u001b[0mlist\u001b[0m\u001b[0;34m(\u001b[0m\u001b[0mkey\u001b[0m\u001b[0;34m)\u001b[0m\u001b[0;34m\u001b[0m\u001b[0;34m\u001b[0m\u001b[0m\n\u001b[0;32m-> 2806\u001b[0;31m             \u001b[0mindexer\u001b[0m \u001b[0;34m=\u001b[0m \u001b[0mself\u001b[0m\u001b[0;34m.\u001b[0m\u001b[0mloc\u001b[0m\u001b[0;34m.\u001b[0m\u001b[0m_get_listlike_indexer\u001b[0m\u001b[0;34m(\u001b[0m\u001b[0mkey\u001b[0m\u001b[0;34m,\u001b[0m \u001b[0maxis\u001b[0m\u001b[0;34m=\u001b[0m\u001b[0;36m1\u001b[0m\u001b[0;34m,\u001b[0m \u001b[0mraise_missing\u001b[0m\u001b[0;34m=\u001b[0m\u001b[0;32mTrue\u001b[0m\u001b[0;34m)\u001b[0m\u001b[0;34m[\u001b[0m\u001b[0;36m1\u001b[0m\u001b[0;34m]\u001b[0m\u001b[0;34m\u001b[0m\u001b[0;34m\u001b[0m\u001b[0m\n\u001b[0m\u001b[1;32m   2807\u001b[0m \u001b[0;34m\u001b[0m\u001b[0m\n\u001b[1;32m   2808\u001b[0m         \u001b[0;31m# take() does not accept boolean indexers\u001b[0m\u001b[0;34m\u001b[0m\u001b[0;34m\u001b[0m\u001b[0;34m\u001b[0m\u001b[0m\n",
            "\u001b[0;32m/usr/local/lib/python3.6/dist-packages/pandas/core/indexing.py\u001b[0m in \u001b[0;36m_get_listlike_indexer\u001b[0;34m(self, key, axis, raise_missing)\u001b[0m\n\u001b[1;32m   1551\u001b[0m \u001b[0;34m\u001b[0m\u001b[0m\n\u001b[1;32m   1552\u001b[0m         self._validate_read_indexer(\n\u001b[0;32m-> 1553\u001b[0;31m             \u001b[0mkeyarr\u001b[0m\u001b[0;34m,\u001b[0m \u001b[0mindexer\u001b[0m\u001b[0;34m,\u001b[0m \u001b[0mo\u001b[0m\u001b[0;34m.\u001b[0m\u001b[0m_get_axis_number\u001b[0m\u001b[0;34m(\u001b[0m\u001b[0maxis\u001b[0m\u001b[0;34m)\u001b[0m\u001b[0;34m,\u001b[0m \u001b[0mraise_missing\u001b[0m\u001b[0;34m=\u001b[0m\u001b[0mraise_missing\u001b[0m\u001b[0;34m\u001b[0m\u001b[0;34m\u001b[0m\u001b[0m\n\u001b[0m\u001b[1;32m   1554\u001b[0m         )\n\u001b[1;32m   1555\u001b[0m         \u001b[0;32mreturn\u001b[0m \u001b[0mkeyarr\u001b[0m\u001b[0;34m,\u001b[0m \u001b[0mindexer\u001b[0m\u001b[0;34m\u001b[0m\u001b[0;34m\u001b[0m\u001b[0m\n",
            "\u001b[0;32m/usr/local/lib/python3.6/dist-packages/pandas/core/indexing.py\u001b[0m in \u001b[0;36m_validate_read_indexer\u001b[0;34m(self, key, indexer, axis, raise_missing)\u001b[0m\n\u001b[1;32m   1638\u001b[0m             \u001b[0;32mif\u001b[0m \u001b[0mmissing\u001b[0m \u001b[0;34m==\u001b[0m \u001b[0mlen\u001b[0m\u001b[0;34m(\u001b[0m\u001b[0mindexer\u001b[0m\u001b[0;34m)\u001b[0m\u001b[0;34m:\u001b[0m\u001b[0;34m\u001b[0m\u001b[0;34m\u001b[0m\u001b[0m\n\u001b[1;32m   1639\u001b[0m                 \u001b[0maxis_name\u001b[0m \u001b[0;34m=\u001b[0m \u001b[0mself\u001b[0m\u001b[0;34m.\u001b[0m\u001b[0mobj\u001b[0m\u001b[0;34m.\u001b[0m\u001b[0m_get_axis_name\u001b[0m\u001b[0;34m(\u001b[0m\u001b[0maxis\u001b[0m\u001b[0;34m)\u001b[0m\u001b[0;34m\u001b[0m\u001b[0;34m\u001b[0m\u001b[0m\n\u001b[0;32m-> 1640\u001b[0;31m                 \u001b[0;32mraise\u001b[0m \u001b[0mKeyError\u001b[0m\u001b[0;34m(\u001b[0m\u001b[0;34mf\"None of [{key}] are in the [{axis_name}]\"\u001b[0m\u001b[0;34m)\u001b[0m\u001b[0;34m\u001b[0m\u001b[0;34m\u001b[0m\u001b[0m\n\u001b[0m\u001b[1;32m   1641\u001b[0m \u001b[0;34m\u001b[0m\u001b[0m\n\u001b[1;32m   1642\u001b[0m             \u001b[0;31m# We (temporarily) allow for some missing keys with .loc, except in\u001b[0m\u001b[0;34m\u001b[0m\u001b[0;34m\u001b[0m\u001b[0;34m\u001b[0m\u001b[0m\n",
            "\u001b[0;31mKeyError\u001b[0m: \"None of [Float64Index([1.0, 2.0, 1.0, 1.0, 2.0, 1.0, 5.0, 1.0, 1.0, 2.0,\\n              ...\\n              1.0, 3.0, 1.0, 3.0, 1.0, 2.0, 2.0, 1.0, 1.0, 1.0],\\n             dtype='float64', length=191)] are in the [columns]\""
          ]
        }
      ]
    },
    {
      "cell_type": "code",
      "metadata": {
        "id": "wcqg_-tDT_Hd",
        "colab_type": "code",
        "colab": {}
      },
      "source": [
        "kmeans = KMeans(n_clusters = 5, init ='k-means++', n_init= 1000, max_iter = 10000)\n",
        "kmeans.fit(X[X.columns[1:4]]) # Compute k-means clustering.\n",
        "X['cluster_label'] = kmeans.fit_predict(X[X.columns[1:4]])\n",
        "centers = kmeans.cluster_centers_ # Coordinates of cluster centers.\n",
        "labels = kmeans.predict(X[X.columns[1:4]]) # Labels of each point\n"
      ],
      "execution_count": null,
      "outputs": []
    },
    {
      "cell_type": "code",
      "metadata": {
        "id": "GTRZKHyy42kV",
        "colab_type": "code",
        "colab": {}
      },
      "source": [
        "geo_qtde = gpd.GeoDataFrame(\n",
        "    X, geometry=gpd.points_from_xy(X.longitude, X.latitude))"
      ],
      "execution_count": null,
      "outputs": []
    },
    {
      "cell_type": "code",
      "metadata": {
        "id": "YAjEvi8J5Dsh",
        "colab_type": "code",
        "colab": {}
      },
      "source": [
        "geo_qtde['cluster_label'].value_counts()"
      ],
      "execution_count": null,
      "outputs": []
    },
    {
      "cell_type": "code",
      "metadata": {
        "id": "U8ZDUoUT5pPk",
        "colab_type": "code",
        "colab": {}
      },
      "source": [
        "from mpl_toolkits.axes_grid1 import make_axes_locatable\n",
        "sns.set(style= \"whitegrid\", palette= \"pastel\", color_codes=True)\n",
        "fig, ax = plt.subplots(1,1, figsize = (10, 10))\n",
        "plt.title('Distribuição dos municípios por proximidade geográfica')\n",
        "divider = make_axes_locatable(ax)  # para alinhar a legenda ao mapa\n",
        "cax = divider.append_axes(\"right\", size=\"5%\", pad=0.1) #para alinhar a legenda ao mapa\n",
        "mapamg.plot(ax=ax, color = 'grey', figsize = (10,10), alpha = 0.4)\n",
        "geo_qtde.plot(ax=ax, column = 'cluster_label', cmap='CMRmap', legend = True, cax = cax)\n",
        "plt.show()"
      ],
      "execution_count": null,
      "outputs": []
    },
    {
      "cell_type": "code",
      "metadata": {
        "id": "fskHDwvYVu-o",
        "colab_type": "code",
        "colab": {}
      },
      "source": [
        "from mpl_toolkits.axes_grid1 import make_axes_locatable\n",
        "sns.set(style= \"whitegrid\", palette= \"pastel\", color_codes=True)\n",
        "fig, ax = plt.subplots(1,1, figsize = (10, 10))\n",
        "plt.title('Distribuição dos municípios por quantidade de academias')\n",
        "divider = make_axes_locatable(ax)  # para alinhar a legenda ao mapa\n",
        "cax = divider.append_axes(\"right\", size=\"5%\", pad=0.1) #para alinhar a legenda ao mapa\n",
        "mapamg.plot(ax=ax, color = 'grey', figsize = (10,10), alpha = 0.4)\n",
        "geo_qtde.plot(ax=ax, column = 'Quantidade', cmap='CMRmap', legend = True, cax = cax)\n",
        "plt.show()"
      ],
      "execution_count": null,
      "outputs": []
    },
    {
      "cell_type": "code",
      "metadata": {
        "id": "wcBY4b4vWuSK",
        "colab_type": "code",
        "colab": {}
      },
      "source": [
        "geo_qtde['Quantidade'].value_counts()"
      ],
      "execution_count": null,
      "outputs": []
    },
    {
      "cell_type": "code",
      "metadata": {
        "id": "sJLBvVa2cqmn",
        "colab_type": "code",
        "colab": {}
      },
      "source": [
        "geo_qtde.to_excel('/content/drive/My Drive/Tabelas Finais CAMG /Academias/municipios p quantidade academia.xlsx')"
      ],
      "execution_count": null,
      "outputs": []
    },
    {
      "cell_type": "markdown",
      "metadata": {
        "id": "tYGSvDfqErj2",
        "colab_type": "text"
      },
      "source": [
        "## 13/05 Para todos os municípios - 4 ou 6 lotes"
      ]
    },
    {
      "cell_type": "markdown",
      "metadata": {
        "id": "ugfgRJ1kJgeT",
        "colab_type": "text"
      },
      "source": [
        "4 Lotes"
      ]
    },
    {
      "cell_type": "code",
      "metadata": {
        "id": "byQvjHYmExZF",
        "colab_type": "code",
        "colab": {}
      },
      "source": [
        "padrao = padrao[['codigo_ibge', 'latitude', 'longitude']]"
      ],
      "execution_count": 49,
      "outputs": []
    },
    {
      "cell_type": "code",
      "metadata": {
        "id": "KH4MDK5LFFzS",
        "colab_type": "code",
        "colab": {
          "base_uri": "https://localhost:8080/",
          "height": 301
        },
        "outputId": "7f4bf80e-4041-4329-ac97-7832d67b3624"
      },
      "source": [
        "K_clusters = range(1,15)\n",
        "kmeans = [KMeans(n_clusters=i) for i in K_clusters]\n",
        "Y_axis = padrao[['latitude']]\n",
        "X_axis = padrao[['longitude']]\n",
        "score = [kmeans[i].fit(Y_axis).score(Y_axis) for i in range(len(kmeans))] # Visualize\n",
        "plt.plot(K_clusters, score)\n",
        "plt.xlabel('Número de grupos')\n",
        "plt.ylabel('Score')\n",
        "plt.title('Elbow Curve')\n",
        "plt.show()"
      ],
      "execution_count": 50,
      "outputs": [
        {
          "output_type": "display_data",
          "data": {
            "image/png": "[encoded data removed]",
            "text/plain": [
              "<Figure size 432x288 with 1 Axes>"
            ]
          },
          "metadata": {
            "tags": []
          }
        }
      ]
    },
    {
      "cell_type": "code",
      "metadata": {
        "id": "zhufchBmFu8y",
        "colab_type": "code",
        "colab": {
          "base_uri": "https://localhost:8080/",
          "height": 320
        },
        "outputId": "00af73e0-9ae0-4cf3-801e-1fb92508436c"
      },
      "source": [
        "cluster4 = padrao\n",
        "cluster4 = cluster4[['codigo_ibge', 'municipio', 'latitude', 'longitude']]"
      ],
      "execution_count": 51,
      "outputs": [
        {
          "output_type": "error",
          "ename": "KeyError",
          "evalue": "ignored",
          "traceback": [
            "\u001b[0;31m---------------------------------------------------------------------------\u001b[0m",
            "\u001b[0;31mKeyError\u001b[0m                                  Traceback (most recent call last)",
            "\u001b[0;32m<ipython-input-51-1484c14f0906>\u001b[0m in \u001b[0;36m<module>\u001b[0;34m()\u001b[0m\n\u001b[1;32m      1\u001b[0m \u001b[0mcluster4\u001b[0m \u001b[0;34m=\u001b[0m \u001b[0mpadrao\u001b[0m\u001b[0;34m\u001b[0m\u001b[0;34m\u001b[0m\u001b[0m\n\u001b[0;32m----> 2\u001b[0;31m \u001b[0mcluster4\u001b[0m \u001b[0;34m=\u001b[0m \u001b[0mcluster4\u001b[0m\u001b[0;34m[\u001b[0m\u001b[0;34m[\u001b[0m\u001b[0;34m'codigo_ibge'\u001b[0m\u001b[0;34m,\u001b[0m \u001b[0;34m'municipio'\u001b[0m\u001b[0;34m,\u001b[0m \u001b[0;34m'latitude'\u001b[0m\u001b[0;34m,\u001b[0m \u001b[0;34m'longitude'\u001b[0m\u001b[0;34m]\u001b[0m\u001b[0;34m]\u001b[0m\u001b[0;34m\u001b[0m\u001b[0;34m\u001b[0m\u001b[0m\n\u001b[0m",
            "\u001b[0;32m/usr/local/lib/python3.6/dist-packages/pandas/core/frame.py\u001b[0m in \u001b[0;36m__getitem__\u001b[0;34m(self, key)\u001b[0m\n\u001b[1;32m   2804\u001b[0m             \u001b[0;32mif\u001b[0m \u001b[0mis_iterator\u001b[0m\u001b[0;34m(\u001b[0m\u001b[0mkey\u001b[0m\u001b[0;34m)\u001b[0m\u001b[0;34m:\u001b[0m\u001b[0;34m\u001b[0m\u001b[0;34m\u001b[0m\u001b[0m\n\u001b[1;32m   2805\u001b[0m                 \u001b[0mkey\u001b[0m \u001b[0;34m=\u001b[0m \u001b[0mlist\u001b[0m\u001b[0;34m(\u001b[0m\u001b[0mkey\u001b[0m\u001b[0;34m)\u001b[0m\u001b[0;34m\u001b[0m\u001b[0;34m\u001b[0m\u001b[0m\n\u001b[0;32m-> 2806\u001b[0;31m             \u001b[0mindexer\u001b[0m \u001b[0;34m=\u001b[0m \u001b[0mself\u001b[0m\u001b[0;34m.\u001b[0m\u001b[0mloc\u001b[0m\u001b[0;34m.\u001b[0m\u001b[0m_get_listlike_indexer\u001b[0m\u001b[0;34m(\u001b[0m\u001b[0mkey\u001b[0m\u001b[0;34m,\u001b[0m \u001b[0maxis\u001b[0m\u001b[0;34m=\u001b[0m\u001b[0;36m1\u001b[0m\u001b[0;34m,\u001b[0m \u001b[0mraise_missing\u001b[0m\u001b[0;34m=\u001b[0m\u001b[0;32mTrue\u001b[0m\u001b[0;34m)\u001b[0m\u001b[0;34m[\u001b[0m\u001b[0;36m1\u001b[0m\u001b[0;34m]\u001b[0m\u001b[0;34m\u001b[0m\u001b[0;34m\u001b[0m\u001b[0m\n\u001b[0m\u001b[1;32m   2807\u001b[0m \u001b[0;34m\u001b[0m\u001b[0m\n\u001b[1;32m   2808\u001b[0m         \u001b[0;31m# take() does not accept boolean indexers\u001b[0m\u001b[0;34m\u001b[0m\u001b[0;34m\u001b[0m\u001b[0;34m\u001b[0m\u001b[0m\n",
            "\u001b[0;32m/usr/local/lib/python3.6/dist-packages/pandas/core/indexing.py\u001b[0m in \u001b[0;36m_get_listlike_indexer\u001b[0;34m(self, key, axis, raise_missing)\u001b[0m\n\u001b[1;32m   1551\u001b[0m \u001b[0;34m\u001b[0m\u001b[0m\n\u001b[1;32m   1552\u001b[0m         self._validate_read_indexer(\n\u001b[0;32m-> 1553\u001b[0;31m             \u001b[0mkeyarr\u001b[0m\u001b[0;34m,\u001b[0m \u001b[0mindexer\u001b[0m\u001b[0;34m,\u001b[0m \u001b[0mo\u001b[0m\u001b[0;34m.\u001b[0m\u001b[0m_get_axis_number\u001b[0m\u001b[0;34m(\u001b[0m\u001b[0maxis\u001b[0m\u001b[0;34m)\u001b[0m\u001b[0;34m,\u001b[0m \u001b[0mraise_missing\u001b[0m\u001b[0;34m=\u001b[0m\u001b[0mraise_missing\u001b[0m\u001b[0;34m\u001b[0m\u001b[0;34m\u001b[0m\u001b[0m\n\u001b[0m\u001b[1;32m   1554\u001b[0m         )\n\u001b[1;32m   1555\u001b[0m         \u001b[0;32mreturn\u001b[0m \u001b[0mkeyarr\u001b[0m\u001b[0;34m,\u001b[0m \u001b[0mindexer\u001b[0m\u001b[0;34m\u001b[0m\u001b[0;34m\u001b[0m\u001b[0m\n",
            "\u001b[0;32m/usr/local/lib/python3.6/dist-packages/pandas/core/indexing.py\u001b[0m in \u001b[0;36m_validate_read_indexer\u001b[0;34m(self, key, indexer, axis, raise_missing)\u001b[0m\n\u001b[1;32m   1644\u001b[0m             \u001b[0;32mif\u001b[0m \u001b[0;32mnot\u001b[0m \u001b[0;34m(\u001b[0m\u001b[0mself\u001b[0m\u001b[0;34m.\u001b[0m\u001b[0mname\u001b[0m \u001b[0;34m==\u001b[0m \u001b[0;34m\"loc\"\u001b[0m \u001b[0;32mand\u001b[0m \u001b[0;32mnot\u001b[0m \u001b[0mraise_missing\u001b[0m\u001b[0;34m)\u001b[0m\u001b[0;34m:\u001b[0m\u001b[0;34m\u001b[0m\u001b[0;34m\u001b[0m\u001b[0m\n\u001b[1;32m   1645\u001b[0m                 \u001b[0mnot_found\u001b[0m \u001b[0;34m=\u001b[0m \u001b[0mlist\u001b[0m\u001b[0;34m(\u001b[0m\u001b[0mset\u001b[0m\u001b[0;34m(\u001b[0m\u001b[0mkey\u001b[0m\u001b[0;34m)\u001b[0m \u001b[0;34m-\u001b[0m \u001b[0mset\u001b[0m\u001b[0;34m(\u001b[0m\u001b[0max\u001b[0m\u001b[0;34m)\u001b[0m\u001b[0;34m)\u001b[0m\u001b[0;34m\u001b[0m\u001b[0;34m\u001b[0m\u001b[0m\n\u001b[0;32m-> 1646\u001b[0;31m                 \u001b[0;32mraise\u001b[0m \u001b[0mKeyError\u001b[0m\u001b[0;34m(\u001b[0m\u001b[0;34mf\"{not_found} not in index\"\u001b[0m\u001b[0;34m)\u001b[0m\u001b[0;34m\u001b[0m\u001b[0;34m\u001b[0m\u001b[0m\n\u001b[0m\u001b[1;32m   1647\u001b[0m \u001b[0;34m\u001b[0m\u001b[0m\n\u001b[1;32m   1648\u001b[0m             \u001b[0;31m# we skip the warning on Categorical/Interval\u001b[0m\u001b[0;34m\u001b[0m\u001b[0;34m\u001b[0m\u001b[0;34m\u001b[0m\u001b[0m\n",
            "\u001b[0;31mKeyError\u001b[0m: \"['municipio'] not in index\""
          ]
        }
      ]
    },
    {
      "cell_type": "code",
      "metadata": {
        "id": "I_RM3E3MnZR1",
        "colab_type": "code",
        "colab": {}
      },
      "source": [
        "cluster4.head()"
      ],
      "execution_count": null,
      "outputs": []
    },
    {
      "cell_type": "code",
      "metadata": {
        "id": "jFXgIwTFFWPk",
        "colab_type": "code",
        "colab": {}
      },
      "source": [
        "kmeans = KMeans(n_clusters = 4, init ='k-means++', n_init= 1000, max_iter = 10000)\n",
        "kmeans.fit(cluster4[cluster4.columns[2:4]]) # Compute k-means clustering.\n",
        "cluster4['cluster_label'] = kmeans.fit_predict(cluster4[cluster4.columns[2:4]])\n",
        "centers = kmeans.cluster_centers_ # Coordinates of cluster centers.\n",
        "labels = kmeans.predict(cluster4[cluster4.columns[2:4]]) # Labels of each point\n"
      ],
      "execution_count": null,
      "outputs": []
    },
    {
      "cell_type": "code",
      "metadata": {
        "id": "apSeyHx5FpZ1",
        "colab_type": "code",
        "colab": {}
      },
      "source": [
        "geo_4 = gpd.GeoDataFrame(\n",
        "    cluster4, geometry=gpd.points_from_xy(cluster4.longitude,cluster4.latitude))"
      ],
      "execution_count": null,
      "outputs": []
    },
    {
      "cell_type": "code",
      "metadata": {
        "id": "6EKk2m8DDqK7",
        "colab_type": "code",
        "colab": {}
      },
      "source": [
        "geo_4.to_excel('/content/drive/My Drive/Tabelas Finais CAMG /Academias/4 grupos.xlsx')"
      ],
      "execution_count": null,
      "outputs": []
    },
    {
      "cell_type": "code",
      "metadata": {
        "id": "Bji3dJCLJptM",
        "colab_type": "code",
        "colab": {}
      },
      "source": [
        "from mpl_toolkits.axes_grid1 import make_axes_locatable\n",
        "sns.set(style= \"whitegrid\", palette= \"pastel\", color_codes=True)\n",
        "fig, ax = plt.subplots(1,1, figsize = (10, 10))\n",
        "plt.title('Distribuição dos municípios por proximidade geográfica')\n",
        "divider = make_axes_locatable(ax)  # para alinhar a legenda ao mapa\n",
        "cax = divider.append_axes(\"right\", size=\"5%\", pad=0.1) #para alinhar a legenda ao mapa\n",
        "mapamg.plot(ax=ax, color = 'grey', figsize = (10,10), alpha = 0.4)\n",
        "geo_4.plot(ax=ax, column = 'cluster_label', cmap='CMRmap', legend = True, cax = cax)\n",
        "plt.show()"
      ],
      "execution_count": null,
      "outputs": []
    },
    {
      "cell_type": "code",
      "metadata": {
        "id": "RlksJQKKMh1S",
        "colab_type": "code",
        "colab": {}
      },
      "source": [
        "geo_4['cluster_label'].value_counts()"
      ],
      "execution_count": null,
      "outputs": []
    },
    {
      "cell_type": "markdown",
      "metadata": {
        "id": "c4y1YB66myDF",
        "colab_type": "text"
      },
      "source": [
        "5 Lotes"
      ]
    },
    {
      "cell_type": "code",
      "metadata": {
        "colab_type": "code",
        "id": "g41JoGT-m4j8",
        "colab": {}
      },
      "source": [
        "cluster5 = padrao"
      ],
      "execution_count": null,
      "outputs": []
    },
    {
      "cell_type": "code",
      "metadata": {
        "id": "krTnAll6nJ59",
        "colab_type": "code",
        "colab": {}
      },
      "source": [
        "cluster5 = cluster5[['codigo_ibge', 'municipio', 'latitude', 'longitude']]"
      ],
      "execution_count": null,
      "outputs": []
    },
    {
      "cell_type": "code",
      "metadata": {
        "colab_type": "code",
        "id": "-dsv1I4Sm4kS",
        "colab": {}
      },
      "source": [
        "kmeans = KMeans(n_clusters = 5, init ='k-means++', n_init= 1000, max_iter = 10000)\n",
        "kmeans.fit(cluster5[cluster5.columns[2:4]]) # Compute k-means clustering.\n",
        "cluster5['cluster_label'] = kmeans.fit_predict(cluster5[cluster5.columns[2:4]])\n",
        "centers = kmeans.cluster_centers_ # Coordinates of cluster centers.\n",
        "labels = kmeans.predict(cluster5[cluster5.columns[2:4]]) # Labels of each point\n"
      ],
      "execution_count": null,
      "outputs": []
    },
    {
      "cell_type": "code",
      "metadata": {
        "colab_type": "code",
        "id": "y0GtEwATm4ke",
        "colab": {}
      },
      "source": [
        "geo_5 = gpd.GeoDataFrame(\n",
        "    cluster5, geometry=gpd.points_from_xy(cluster5.longitude,cluster5.latitude))"
      ],
      "execution_count": null,
      "outputs": []
    },
    {
      "cell_type": "code",
      "metadata": {
        "colab_type": "code",
        "id": "T1s5StFIm4kp",
        "colab": {}
      },
      "source": [
        "from mpl_toolkits.axes_grid1 import make_axes_locatable\n",
        "sns.set(style= \"whitegrid\", palette= \"pastel\", color_codes=True)\n",
        "fig, ax = plt.subplots(1,1, figsize = (10, 10))\n",
        "plt.title('Distribuição dos municípios por proximidade geográfica')\n",
        "divider = make_axes_locatable(ax)  # para alinhar a legenda ao mapa\n",
        "cax = divider.append_axes(\"right\", size=\"5%\", pad=0.1) #para alinhar a legenda ao mapa\n",
        "mapamg.plot(ax=ax, color = 'grey', figsize = (10,10), alpha = 0.4)\n",
        "geo_5.plot(ax=ax, column = 'cluster_label', cmap='CMRmap', legend = True, cax = cax)\n",
        "plt.show()"
      ],
      "execution_count": null,
      "outputs": []
    },
    {
      "cell_type": "code",
      "metadata": {
        "colab_type": "code",
        "id": "_w6LJK-Gm4k1",
        "colab": {}
      },
      "source": [
        "geo_4['cluster_label'].value_counts()"
      ],
      "execution_count": null,
      "outputs": []
    },
    {
      "cell_type": "markdown",
      "metadata": {
        "id": "i3DnCnngNkyv",
        "colab_type": "text"
      },
      "source": [
        "6 Lotes\n"
      ]
    },
    {
      "cell_type": "code",
      "metadata": {
        "id": "VBHoZx1dNj7R",
        "colab_type": "code",
        "colab": {}
      },
      "source": [
        "cluster6 = padrao\n",
        "\n",
        "cluster6 = padrao[['codigo_ibge', 'municipio', 'latitude', 'longitude']]"
      ],
      "execution_count": null,
      "outputs": []
    },
    {
      "cell_type": "code",
      "metadata": {
        "id": "-PCc1mkMP7J3",
        "colab_type": "code",
        "colab": {}
      },
      "source": [
        "cluster6.head()"
      ],
      "execution_count": null,
      "outputs": []
    },
    {
      "cell_type": "code",
      "metadata": {
        "id": "QqXhaLBnPrW3",
        "colab_type": "code",
        "colab": {}
      },
      "source": [
        "kmeans = KMeans(n_clusters = 6, init ='k-means++', n_init= 1000, max_iter = 10000)\n",
        "kmeans.fit(cluster6[cluster6.columns[2:4]]) # Compute k-means clustering.\n",
        "cluster6['cluster_label'] = kmeans.fit_predict(cluster6[cluster6.columns[2:4]])\n",
        "centers = kmeans.cluster_centers_ # Coordinates of cluster centers.\n",
        "labels = kmeans.predict(cluster6[cluster6.columns[2:4]]) # Labels of each point\n"
      ],
      "execution_count": null,
      "outputs": []
    },
    {
      "cell_type": "code",
      "metadata": {
        "id": "q-7PFwHSRTIi",
        "colab_type": "code",
        "colab": {}
      },
      "source": [
        "geo_6 = gpd.GeoDataFrame(\n",
        "    cluster6, geometry=gpd.points_from_xy(cluster6.longitude,cluster6.latitude))"
      ],
      "execution_count": null,
      "outputs": []
    },
    {
      "cell_type": "code",
      "metadata": {
        "id": "bhdOt658EwUd",
        "colab_type": "code",
        "colab": {}
      },
      "source": [
        "geo_6.to_excel('/content/drive/My Drive/Tabelas Finais CAMG /Academias/6 grupos\n",
        ".xlsx')"
      ],
      "execution_count": null,
      "outputs": []
    },
    {
      "cell_type": "code",
      "metadata": {
        "id": "Q1-CxE5gRZa5",
        "colab_type": "code",
        "colab": {}
      },
      "source": [
        "from mpl_toolkits.axes_grid1 import make_axes_locatable\n",
        "sns.set(style= \"whitegrid\", palette= \"pastel\", color_codes=True)\n",
        "fig, ax = plt.subplots(1,1, figsize = (10, 10))\n",
        "plt.title('Distribuição dos municípios por proximidade geográfica - 6 grupos')\n",
        "divider = make_axes_locatable(ax)  # para alinhar a legenda ao mapa\n",
        "cax = divider.append_axes(\"right\", size=\"5%\", pad=0.1) #para alinhar a legenda ao mapa\n",
        "mapamg.plot(ax=ax, color = 'grey', figsize = (10,10), alpha = 0.4)\n",
        "geo_6.plot(ax=ax, column = 'cluster_label', cmap='CMRmap', legend = True, cax = cax)\n",
        "plt.show()"
      ],
      "execution_count": null,
      "outputs": []
    },
    {
      "cell_type": "code",
      "metadata": {
        "id": "ekf4_iBCReP7",
        "colab_type": "code",
        "colab": {}
      },
      "source": [
        "geo_6['cluster_label'].value_counts()"
      ],
      "execution_count": null,
      "outputs": []
    },
    {
      "cell_type": "code",
      "metadata": {
        "id": "W4Ju368yOGRC",
        "colab_type": "code",
        "colab": {}
      },
      "source": [
        "geo_6.head()"
      ],
      "execution_count": null,
      "outputs": []
    },
    {
      "cell_type": "code",
      "metadata": {
        "id": "wInmh4X8SM8X",
        "colab_type": "code",
        "colab": {}
      },
      "source": [
        "geo_6.to_excel('/content/drive/My Drive/Tabelas Finais CAMG /Academias/6 grupos.xlsx')"
      ],
      "execution_count": null,
      "outputs": []
    },
    {
      "cell_type": "markdown",
      "metadata": {
        "id": "1ah_PknLSJki",
        "colab_type": "text"
      },
      "source": [
        "5 grupos modificado"
      ]
    },
    {
      "cell_type": "code",
      "metadata": {
        "id": "CInYtlYIREsH",
        "colab_type": "code",
        "colab": {}
      },
      "source": [
        "geo_5_modificado = geo_6"
      ],
      "execution_count": null,
      "outputs": []
    },
    {
      "cell_type": "code",
      "metadata": {
        "id": "76KActkYRXmq",
        "colab_type": "code",
        "colab": {}
      },
      "source": [
        "geo_5_modificado.head()"
      ],
      "execution_count": null,
      "outputs": []
    },
    {
      "cell_type": "code",
      "metadata": {
        "id": "t1za3GNRRbHl",
        "colab_type": "code",
        "colab": {}
      },
      "source": [
        "geo_5_modificado['cluster_label'].value_counts()"
      ],
      "execution_count": null,
      "outputs": []
    },
    {
      "cell_type": "code",
      "metadata": {
        "id": "a7j5INUtTuzf",
        "colab_type": "code",
        "colab": {}
      },
      "source": [
        "x = geo_5_modificado['cluster_label'] == 4"
      ],
      "execution_count": null,
      "outputs": []
    },
    {
      "cell_type": "code",
      "metadata": {
        "id": "9i4bqZyKTz66",
        "colab_type": "code",
        "colab": {}
      },
      "source": [
        "geo_5_modificado.loc[x, 'cluster_label'] = 2"
      ],
      "execution_count": null,
      "outputs": []
    },
    {
      "cell_type": "code",
      "metadata": {
        "id": "VTJB2wjqRrvU",
        "colab_type": "code",
        "colab": {}
      },
      "source": [
        "from mpl_toolkits.axes_grid1 import make_axes_locatable\n",
        "sns.set(style= \"whitegrid\", palette= \"pastel\", color_codes=True)\n",
        "fig, ax = plt.subplots(1,1, figsize = (10, 10))\n",
        "plt.title('Distribuição dos municípios por proximidade geográfica - 5 grupos')\n",
        "divider = make_axes_locatable(ax)  # para alinhar a legenda ao mapa\n",
        "cax = divider.append_axes(\"right\", size=\"5%\", pad=0.1) #para alinhar a legenda ao mapa\n",
        "mapamg.plot(ax=ax, color = 'grey', figsize = (10,10), alpha = 0.4)\n",
        "geo_5_modificado.plot(ax=ax, column = 'cluster_label', cmap='CMRmap', legend = True, cax = cax)\n",
        "plt.show()"
      ],
      "execution_count": null,
      "outputs": []
    },
    {
      "cell_type": "code",
      "metadata": {
        "id": "8gCKVaNRMQ2l",
        "colab_type": "code",
        "colab": {}
      },
      "source": [
        "geo_6['cluster_label'].dtypes"
      ],
      "execution_count": null,
      "outputs": []
    },
    {
      "cell_type": "code",
      "metadata": {
        "id": "RBioGWLUN2KI",
        "colab_type": "code",
        "colab": {}
      },
      "source": [
        "geo_5_modificado.to_excel('/content/drive/My Drive/Tabelas Finais CAMG /Academias/5 grupos modificado.xlsx')"
      ],
      "execution_count": null,
      "outputs": []
    },
    {
      "cell_type": "code",
      "metadata": {
        "id": "iBumsx6lRpTl",
        "colab_type": "code",
        "colab": {}
      },
      "source": [
        "geo_6['cluster_label'].describe()"
      ],
      "execution_count": null,
      "outputs": []
    },
    {
      "cell_type": "code",
      "metadata": {
        "id": "fwj0dpnwR18-",
        "colab_type": "code",
        "colab": {}
      },
      "source": [
        ""
      ],
      "execution_count": null,
      "outputs": []
    }
  ]
}